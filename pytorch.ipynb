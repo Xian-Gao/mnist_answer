{
 "cells": [
  {
   "cell_type": "markdown",
   "metadata": {},
   "source": [
    "# Pytorch Tutorial"
   ]
  },
  {
   "cell_type": "markdown",
   "metadata": {},
   "source": [
    "Pytorch is a popular deep learning framework and it's easy to get started."
   ]
  },
  {
   "cell_type": "code",
   "execution_count": 1,
   "metadata": {},
   "outputs": [],
   "source": [
    "import torch\n",
    "import torch.nn as nn\n",
    "import torch.utils.data as data\n",
    "import torchvision\n",
    "import torchvision.transforms as transforms\n",
    "from tqdm import tqdm\n",
    "import time\n",
    "\n",
    "BATCH_SIZE = 128\n",
    "NUM_EPOCHS = 10"
   ]
  },
  {
   "cell_type": "markdown",
   "metadata": {},
   "source": [
    "First, we read the mnist data, preprocess them and encapsulate them into dataloader form."
   ]
  },
  {
   "cell_type": "code",
   "execution_count": 2,
   "metadata": {},
   "outputs": [],
   "source": [
    "# preprocessing\n",
    "normalize = transforms.Normalize(mean=[.5], std=[.5])\n",
    "transform = transforms.Compose([transforms.ToTensor(), normalize])\n",
    "\n",
    "# download and load the data\n",
    "train_dataset = torchvision.datasets.MNIST(root='./mnist/', train=True, transform=transform, download=True)\n",
    "test_dataset = torchvision.datasets.MNIST(root='./mnist/', train=False, transform=transform, download=False)\n",
    "\n",
    "# encapsulate them into dataloader form\n",
    "train_loader = data.DataLoader(train_dataset, batch_size=BATCH_SIZE, shuffle=True, drop_last=True)\n",
    "test_loader = data.DataLoader(test_dataset, batch_size=BATCH_SIZE, shuffle=False, drop_last=True)"
   ]
  },
  {
   "cell_type": "markdown",
   "metadata": {},
   "source": [
    "Then, we define the model, object function and optimizer that we use to classify."
   ]
  },
  {
   "cell_type": "code",
   "execution_count": 3,
   "metadata": {},
   "outputs": [],
   "source": [
    "class SimpleNet(nn.Module):\n",
    "# TODO:define model\n",
    "\n",
    "    def __init__(self):\n",
    "        super(SimpleNet,self).__init__()\n",
    "        self.Conv1 = nn.Conv2d(1, 6, kernel_size=5,padding=2)\n",
    "        self.Relu1 = nn.ReLU()\n",
    "        self.Pool1 = nn.MaxPool2d(2)\n",
    "        self.Conv2 = nn.Conv2d(6, 16, kernel_size=5)\n",
    "        self.Relu2 = nn.ReLU()\n",
    "        self.Pool2 = nn.MaxPool2d(2)\n",
    "        self.Conv3 = nn.Conv2d(16,500,kernel_size=5)\n",
    "        self.Relu3 = nn.ReLU()\n",
    "        self.FC1 = nn.Linear(500, 120)\n",
    "        self.Relu4 = nn.ReLU()\n",
    "        self.FC2 = nn.Linear(120, 10)\n",
    "\n",
    "    def forward(self, x):\n",
    "        y = self.Conv1(x)\n",
    "        y = self.Pool1(y)\n",
    "        y = self.Relu1(y)\n",
    "        y = self.Conv2(y)\n",
    "        y = self.Pool2(y)\n",
    "        y = self.Relu2(y)\n",
    "        y = self.Conv3(y)\n",
    "        y = self.Relu3(y)\n",
    "        y = y.view(y.shape[0], -1)\n",
    "        y = self.FC1(y)\n",
    "        y = self.Relu4(y)\n",
    "        y = self.FC2(y)\n",
    "        return y\n",
    "    \n",
    "model = SimpleNet()\n",
    "\n",
    "# TODO:define loss function and optimiter\n",
    "criterion = nn.CrossEntropyLoss()\n",
    "optimizer = torch.optim.SGD(model.parameters(), lr=0.02, momentum=0.9)"
   ]
  },
  {
   "cell_type": "markdown",
   "metadata": {},
   "source": [
    "Next, we can start to train and evaluate!"
   ]
  },
  {
   "cell_type": "code",
   "execution_count": 4,
   "metadata": {
    "scrolled": true
   },
   "outputs": [
    {
     "name": "stderr",
     "output_type": "stream",
     "text": [
      "  0%|▏                                                                                 | 1/468 [00:00<00:48,  9.69it/s]"
     ]
    },
    {
     "name": "stdout",
     "output_type": "stream",
     "text": [
      "\n",
      " -----epoch  0 -----\n",
      "\n",
      " training\n"
     ]
    },
    {
     "name": "stderr",
     "output_type": "stream",
     "text": [
      "100%|████████████████████████████████████████████████████████████████████████████████| 468/468 [01:18<00:00,  5.96it/s]\n",
      "  0%|▎                                                                                 | 2/468 [00:00<00:39, 11.73it/s]"
     ]
    },
    {
     "name": "stdout",
     "output_type": "stream",
     "text": [
      "\n",
      " evaluating\n"
     ]
    },
    {
     "name": "stderr",
     "output_type": "stream",
     "text": [
      "100%|████████████████████████████████████████████████████████████████████████████████| 468/468 [00:33<00:00, 14.16it/s]\n",
      "  0%|▏                                                                                 | 1/468 [00:00<01:06,  7.01it/s]"
     ]
    },
    {
     "name": "stdout",
     "output_type": "stream",
     "text": [
      "\n",
      " -----epoch  1 -----\n",
      "\n",
      " training\n"
     ]
    },
    {
     "name": "stderr",
     "output_type": "stream",
     "text": [
      "100%|████████████████████████████████████████████████████████████████████████████████| 468/468 [01:18<00:00,  5.97it/s]\n",
      "  0%|▎                                                                                 | 2/468 [00:00<00:41, 11.27it/s]"
     ]
    },
    {
     "name": "stdout",
     "output_type": "stream",
     "text": [
      "\n",
      " evaluating\n"
     ]
    },
    {
     "name": "stderr",
     "output_type": "stream",
     "text": [
      "100%|████████████████████████████████████████████████████████████████████████████████| 468/468 [00:30<00:00, 15.15it/s]\n",
      "  0%|▏                                                                                 | 1/468 [00:00<01:10,  6.62it/s]"
     ]
    },
    {
     "name": "stdout",
     "output_type": "stream",
     "text": [
      "\n",
      " -----epoch  2 -----\n",
      "\n",
      " training\n"
     ]
    },
    {
     "name": "stderr",
     "output_type": "stream",
     "text": [
      "100%|████████████████████████████████████████████████████████████████████████████████| 468/468 [01:17<00:00,  6.07it/s]\n",
      "  0%|▏                                                                                 | 1/468 [00:00<00:46, 10.00it/s]"
     ]
    },
    {
     "name": "stdout",
     "output_type": "stream",
     "text": [
      "\n",
      " evaluating\n"
     ]
    },
    {
     "name": "stderr",
     "output_type": "stream",
     "text": [
      "100%|████████████████████████████████████████████████████████████████████████████████| 468/468 [00:31<00:00, 14.82it/s]\n",
      "  0%|▏                                                                                 | 1/468 [00:00<01:06,  7.07it/s]"
     ]
    },
    {
     "name": "stdout",
     "output_type": "stream",
     "text": [
      "\n",
      " -----epoch  3 -----\n",
      "\n",
      " training\n"
     ]
    },
    {
     "name": "stderr",
     "output_type": "stream",
     "text": [
      "100%|████████████████████████████████████████████████████████████████████████████████| 468/468 [01:14<00:00,  6.29it/s]\n",
      "  0%|▎                                                                                 | 2/468 [00:00<00:39, 11.65it/s]"
     ]
    },
    {
     "name": "stdout",
     "output_type": "stream",
     "text": [
      "\n",
      " evaluating\n"
     ]
    },
    {
     "name": "stderr",
     "output_type": "stream",
     "text": [
      "100%|████████████████████████████████████████████████████████████████████████████████| 468/468 [00:28<00:00, 16.16it/s]\n",
      "  0%|▏                                                                                 | 1/468 [00:00<01:10,  6.62it/s]"
     ]
    },
    {
     "name": "stdout",
     "output_type": "stream",
     "text": [
      "\n",
      " -----epoch  4 -----\n",
      "\n",
      " training\n"
     ]
    },
    {
     "name": "stderr",
     "output_type": "stream",
     "text": [
      "100%|████████████████████████████████████████████████████████████████████████████████| 468/468 [01:15<00:00,  6.21it/s]\n",
      "  0%|▎                                                                                 | 2/468 [00:00<00:42, 10.99it/s]"
     ]
    },
    {
     "name": "stdout",
     "output_type": "stream",
     "text": [
      "\n",
      " evaluating\n"
     ]
    },
    {
     "name": "stderr",
     "output_type": "stream",
     "text": [
      "100%|████████████████████████████████████████████████████████████████████████████████| 468/468 [00:32<00:00, 14.60it/s]\n",
      "  0%|▏                                                                                 | 1/468 [00:00<01:15,  6.18it/s]"
     ]
    },
    {
     "name": "stdout",
     "output_type": "stream",
     "text": [
      "\n",
      " -----epoch  5 -----\n",
      "\n",
      " training\n"
     ]
    },
    {
     "name": "stderr",
     "output_type": "stream",
     "text": [
      "100%|████████████████████████████████████████████████████████████████████████████████| 468/468 [01:17<00:00,  6.06it/s]\n",
      "  0%|▎                                                                                 | 2/468 [00:00<00:41, 11.20it/s]"
     ]
    },
    {
     "name": "stdout",
     "output_type": "stream",
     "text": [
      "\n",
      " evaluating\n"
     ]
    },
    {
     "name": "stderr",
     "output_type": "stream",
     "text": [
      "100%|████████████████████████████████████████████████████████████████████████████████| 468/468 [00:30<00:00, 15.37it/s]\n",
      "  0%|▏                                                                                 | 1/468 [00:00<01:06,  7.01it/s]"
     ]
    },
    {
     "name": "stdout",
     "output_type": "stream",
     "text": [
      "\n",
      " -----epoch  6 -----\n",
      "\n",
      " training\n"
     ]
    },
    {
     "name": "stderr",
     "output_type": "stream",
     "text": [
      "100%|████████████████████████████████████████████████████████████████████████████████| 468/468 [01:16<00:00,  6.12it/s]\n",
      "  0%|▎                                                                                 | 2/468 [00:00<00:42, 10.99it/s]"
     ]
    },
    {
     "name": "stdout",
     "output_type": "stream",
     "text": [
      "\n",
      " evaluating\n"
     ]
    },
    {
     "name": "stderr",
     "output_type": "stream",
     "text": [
      "100%|████████████████████████████████████████████████████████████████████████████████| 468/468 [00:30<00:00, 15.35it/s]\n",
      "  0%|▏                                                                                 | 1/468 [00:00<01:01,  7.54it/s]"
     ]
    },
    {
     "name": "stdout",
     "output_type": "stream",
     "text": [
      "\n",
      " -----epoch  7 -----\n",
      "\n",
      " training\n"
     ]
    },
    {
     "name": "stderr",
     "output_type": "stream",
     "text": [
      "100%|████████████████████████████████████████████████████████████████████████████████| 468/468 [01:18<00:00,  5.94it/s]\n",
      "  0%|▎                                                                                 | 2/468 [00:00<00:38, 12.12it/s]"
     ]
    },
    {
     "name": "stdout",
     "output_type": "stream",
     "text": [
      "\n",
      " evaluating\n"
     ]
    },
    {
     "name": "stderr",
     "output_type": "stream",
     "text": [
      "100%|████████████████████████████████████████████████████████████████████████████████| 468/468 [00:31<00:00, 15.04it/s]\n",
      "  0%|▏                                                                                 | 1/468 [00:00<01:16,  6.10it/s]"
     ]
    },
    {
     "name": "stdout",
     "output_type": "stream",
     "text": [
      "\n",
      " -----epoch  8 -----\n",
      "\n",
      " training\n"
     ]
    },
    {
     "name": "stderr",
     "output_type": "stream",
     "text": [
      "100%|████████████████████████████████████████████████████████████████████████████████| 468/468 [01:24<00:00,  5.56it/s]\n",
      "  0%|▎                                                                                 | 2/468 [00:00<00:43, 10.81it/s]"
     ]
    },
    {
     "name": "stdout",
     "output_type": "stream",
     "text": [
      "\n",
      " evaluating\n"
     ]
    },
    {
     "name": "stderr",
     "output_type": "stream",
     "text": [
      "100%|████████████████████████████████████████████████████████████████████████████████| 468/468 [00:34<00:00, 13.59it/s]\n",
      "  0%|                                                                                          | 0/468 [00:00<?, ?it/s]"
     ]
    },
    {
     "name": "stdout",
     "output_type": "stream",
     "text": [
      "\n",
      " -----epoch  9 -----\n",
      "\n",
      " training\n"
     ]
    },
    {
     "name": "stderr",
     "output_type": "stream",
     "text": [
      "100%|████████████████████████████████████████████████████████████████████████████████| 468/468 [01:22<00:00,  5.65it/s]\n",
      "  0%|▏                                                                                 | 1/468 [00:00<00:51,  9.12it/s]"
     ]
    },
    {
     "name": "stdout",
     "output_type": "stream",
     "text": [
      "\n",
      " evaluating\n"
     ]
    },
    {
     "name": "stderr",
     "output_type": "stream",
     "text": [
      "100%|████████████████████████████████████████████████████████████████████████████████| 468/468 [00:37<00:00, 12.60it/s]\n"
     ]
    }
   ],
   "source": [
    "# train and evaluate\n",
    "trainAccuracy = []\n",
    "testAccuracy = []\n",
    "for epoch in range(NUM_EPOCHS):\n",
    "    print(\"\\n -----epoch \", epoch,\"-----\")\n",
    "    print(\"\\n training\")\n",
    "    for images, labels in tqdm(train_loader):\n",
    "        # TODO:forward + backward + optimize\n",
    "\n",
    "        optimizer.zero_grad()\n",
    "        out = model(images)\n",
    "        \n",
    "        loss = criterion(out, labels)\n",
    "        loss.backward()\n",
    "        \n",
    "        optimizer.step()\n",
    "\n",
    "    # evaluate\n",
    "    # TODO:calculate the accuracy using traning and testing dataset\n",
    "    accu = 0\n",
    "    total = 0\n",
    "    print(\"\\n evaluating\")\n",
    "    for images, label in tqdm(train_loader):\n",
    "        out = model(images)\n",
    "        predict = out.data.max(1)[1]\n",
    "        total += len(predict)\n",
    "        accu += predict.eq(label.data).sum()\n",
    "    trainAccuracy.append(float(100.0 * accu / total))\n",
    "\n",
    "    accu = 0\n",
    "    total = 0\n",
    "    for images, label in test_loader:\n",
    "        out = model(images)\n",
    "        predict = out.data.max(1)[1]\n",
    "        total += len(predict)\n",
    "        accu += predict.eq(label.data).sum()\n",
    "    testAccuracy.append(float(100.0 * accu / total))"
   ]
  },
  {
   "cell_type": "markdown",
   "metadata": {},
   "source": [
    "#### Q5:\n",
    "Please print the training and testing accuracy."
   ]
  },
  {
   "cell_type": "code",
   "execution_count": 5,
   "metadata": {},
   "outputs": [
    {
     "name": "stdout",
     "output_type": "stream",
     "text": [
      "epoch 0  train accuracy:98.00 %  test accuracy:97.00 %\n",
      "epoch 1  train accuracy:98.00 %  test accuracy:98.00 %\n",
      "epoch 2  train accuracy:99.00 %  test accuracy:98.00 %\n",
      "epoch 3  train accuracy:99.00 %  test accuracy:98.00 %\n",
      "epoch 4  train accuracy:99.00 %  test accuracy:98.00 %\n",
      "epoch 5  train accuracy:99.00 %  test accuracy:99.00 %\n",
      "epoch 6  train accuracy:99.00 %  test accuracy:98.00 %\n",
      "epoch 7  train accuracy:99.00 %  test accuracy:99.00 %\n",
      "epoch 8  train accuracy:99.00 %  test accuracy:99.00 %\n",
      "epoch 9  train accuracy:99.00 %  test accuracy:99.00 %\n"
     ]
    }
   ],
   "source": [
    "for epoch in range(NUM_EPOCHS):\n",
    "    print(\"epoch\",epoch,\" train accuracy:%0.2f\" % (trainAccuracy[epoch]),\"%\",\" test accuracy:%0.2f\" % (testAccuracy[epoch]),\"%\")  "
   ]
  },
  {
   "cell_type": "code",
   "execution_count": null,
   "metadata": {},
   "outputs": [],
   "source": []
  }
 ],
 "metadata": {
  "kernelspec": {
   "display_name": "Python 3",
   "language": "python",
   "name": "python3"
  },
  "language_info": {
   "codemirror_mode": {
    "name": "ipython",
    "version": 3
   },
   "file_extension": ".py",
   "mimetype": "text/x-python",
   "name": "python",
   "nbconvert_exporter": "python",
   "pygments_lexer": "ipython3",
   "version": "3.7.6"
  }
 },
 "nbformat": 4,
 "nbformat_minor": 2
}
